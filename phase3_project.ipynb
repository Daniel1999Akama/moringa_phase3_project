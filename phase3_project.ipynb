{
 "cells": [
  {
   "cell_type": "markdown",
   "id": "994733cd",
   "metadata": {},
   "source": [
    "# Phase 2 Project\n",
    "\n",
    "## Project motto: Pressure is privilege!"
   ]
  },
  {
   "cell_type": "markdown",
   "id": "c38c0b5d",
   "metadata": {},
   "source": [
    "<h3>Project Overview</h3>\n",
    "\n",
    "SyriaTel is a telecommunications company that prides itself in offering top-notch services to their customers. They are the leading telecoms company in their country and want to remain the leader in that particular sphere. Over the years they have chartered alot of the strides in technology in their country and want to continue improving.\n"
   ]
  },
  {
   "cell_type": "markdown",
   "id": "e6eea1b6",
   "metadata": {},
   "source": [
    "<h2>1.Business Understanding</h2>\n",
    "\n",
    "<h3>Stakeholders: SyriaTel executives and managers</h3>\n",
    "\n",
    "<h3>Problem Statement</h3>\n",
    "\n",
    "In a bid to continue leading SyriaTel is facing a significant challenge, CUSTOMER CHURN i.e where the customers are discontinuing their services and switch to other service providers. This churn not only leads to revenue loss but also affects the company's market position and customer satisfaction."
   ]
  },
  {
   "cell_type": "markdown",
   "id": "d5665ac8",
   "metadata": {},
   "source": [
    "<h3>Proposed Solution</h3>\n",
    "\n",
    "The proposed solution is to develop a machine learning model that can analyze customer data, including demographics, usage patterns, service subscriptions, to predict the likelihood of customer churn. \n",
    "The model should be able to identify customers who are most likely to churn, enabling the telecommunication company to take proactive measures to retain them."
   ]
  },
  {
   "cell_type": "markdown",
   "id": "dedcea1a",
   "metadata": {},
   "source": [
    "<h3>Project Objectives</h3>\n",
    "\n",
    "1. To develop a model that will help in predicting if a customer churns or not based on various attributes.\n",
    "2. To identify the attributes that heavily impact if a customer is likely to churn."
   ]
  },
  {
   "cell_type": "markdown",
   "id": "e2ea3ec4",
   "metadata": {},
   "source": [
    "<h3>Project scope and limitations</h3>\n",
    "\n",
    "* This project was ochestrated as an extra advisory tool to support top-level management make informed decisions to deal with customer retention.\n",
    "* The project outputs i.e.the model will not be realized as a full application with a user interface but rather a final report on the findings based on the data used which include a number of recommendations.\n",
    "* Internal data from the company will be the primary data source that will drive this project.\n",
    "* Ultimately the final steps taken to mitigate the situation is upto the company."
   ]
  },
  {
   "cell_type": "markdown",
   "id": "6587915c",
   "metadata": {},
   "source": [
    "<h3>Benchmark metric</h3>\n",
    "\n",
    "* The bench mark evaluation metric that will be used in this project is <b>ACCURACY</b>.\n",
    "* <b>Justification</b>: from objective 1 we want to know if a customer churns therefore accuracy and F1 score would be suitable. \n",
    "* F1-score is also considered but not the main metric."
   ]
  },
  {
   "cell_type": "markdown",
   "id": "875a0810",
   "metadata": {},
   "source": [
    "<h2>2.Data Understanding</h2>"
   ]
  },
  {
   "cell_type": "markdown",
   "id": "43cdff1b",
   "metadata": {},
   "source": [
    "Here we will explore the data to get a better understanding of its state, then decide on the steps we need to take to clean it. We will begin by defining a class for the following tasks:\n",
    "\n",
    "* getting the shape of the data\n",
    "* getting data info\n",
    "* descriptive stats"
   ]
  },
  {
   "cell_type": "markdown",
   "id": "9be6a26f",
   "metadata": {},
   "source": [
    "<h4>Importing and previewing the data</h4>"
   ]
  },
  {
   "cell_type": "code",
   "execution_count": 1,
   "id": "73336ce6",
   "metadata": {},
   "outputs": [],
   "source": [
    "# libraries\n",
    "import pandas as pd\n",
    "import numpy as np\n",
    "import seaborn as sns\n",
    "import matplotlib.pyplot as plt\n",
    "import warnings\n",
    "%matplotlib inline\n",
    "sns.set_style('dark')\n",
    "warnings.filterwarnings('ignore')"
   ]
  },
  {
   "cell_type": "code",
   "execution_count": 2,
   "id": "58575bc7",
   "metadata": {},
   "outputs": [
    {
     "data": {
      "text/html": [
       "<div>\n",
       "<style scoped>\n",
       "    .dataframe tbody tr th:only-of-type {\n",
       "        vertical-align: middle;\n",
       "    }\n",
       "\n",
       "    .dataframe tbody tr th {\n",
       "        vertical-align: top;\n",
       "    }\n",
       "\n",
       "    .dataframe thead th {\n",
       "        text-align: right;\n",
       "    }\n",
       "</style>\n",
       "<table border=\"1\" class=\"dataframe\">\n",
       "  <thead>\n",
       "    <tr style=\"text-align: right;\">\n",
       "      <th></th>\n",
       "      <th>state</th>\n",
       "      <th>account length</th>\n",
       "      <th>area code</th>\n",
       "      <th>phone number</th>\n",
       "      <th>international plan</th>\n",
       "      <th>voice mail plan</th>\n",
       "      <th>number vmail messages</th>\n",
       "      <th>total day minutes</th>\n",
       "      <th>total day calls</th>\n",
       "      <th>total day charge</th>\n",
       "      <th>...</th>\n",
       "      <th>total eve calls</th>\n",
       "      <th>total eve charge</th>\n",
       "      <th>total night minutes</th>\n",
       "      <th>total night calls</th>\n",
       "      <th>total night charge</th>\n",
       "      <th>total intl minutes</th>\n",
       "      <th>total intl calls</th>\n",
       "      <th>total intl charge</th>\n",
       "      <th>customer service calls</th>\n",
       "      <th>churn</th>\n",
       "    </tr>\n",
       "  </thead>\n",
       "  <tbody>\n",
       "    <tr>\n",
       "      <th>0</th>\n",
       "      <td>KS</td>\n",
       "      <td>128</td>\n",
       "      <td>415</td>\n",
       "      <td>382-4657</td>\n",
       "      <td>no</td>\n",
       "      <td>yes</td>\n",
       "      <td>25</td>\n",
       "      <td>265.1</td>\n",
       "      <td>110</td>\n",
       "      <td>45.07</td>\n",
       "      <td>...</td>\n",
       "      <td>99</td>\n",
       "      <td>16.78</td>\n",
       "      <td>244.7</td>\n",
       "      <td>91</td>\n",
       "      <td>11.01</td>\n",
       "      <td>10.0</td>\n",
       "      <td>3</td>\n",
       "      <td>2.70</td>\n",
       "      <td>1</td>\n",
       "      <td>False</td>\n",
       "    </tr>\n",
       "    <tr>\n",
       "      <th>1</th>\n",
       "      <td>OH</td>\n",
       "      <td>107</td>\n",
       "      <td>415</td>\n",
       "      <td>371-7191</td>\n",
       "      <td>no</td>\n",
       "      <td>yes</td>\n",
       "      <td>26</td>\n",
       "      <td>161.6</td>\n",
       "      <td>123</td>\n",
       "      <td>27.47</td>\n",
       "      <td>...</td>\n",
       "      <td>103</td>\n",
       "      <td>16.62</td>\n",
       "      <td>254.4</td>\n",
       "      <td>103</td>\n",
       "      <td>11.45</td>\n",
       "      <td>13.7</td>\n",
       "      <td>3</td>\n",
       "      <td>3.70</td>\n",
       "      <td>1</td>\n",
       "      <td>False</td>\n",
       "    </tr>\n",
       "    <tr>\n",
       "      <th>2</th>\n",
       "      <td>NJ</td>\n",
       "      <td>137</td>\n",
       "      <td>415</td>\n",
       "      <td>358-1921</td>\n",
       "      <td>no</td>\n",
       "      <td>no</td>\n",
       "      <td>0</td>\n",
       "      <td>243.4</td>\n",
       "      <td>114</td>\n",
       "      <td>41.38</td>\n",
       "      <td>...</td>\n",
       "      <td>110</td>\n",
       "      <td>10.30</td>\n",
       "      <td>162.6</td>\n",
       "      <td>104</td>\n",
       "      <td>7.32</td>\n",
       "      <td>12.2</td>\n",
       "      <td>5</td>\n",
       "      <td>3.29</td>\n",
       "      <td>0</td>\n",
       "      <td>False</td>\n",
       "    </tr>\n",
       "    <tr>\n",
       "      <th>3</th>\n",
       "      <td>OH</td>\n",
       "      <td>84</td>\n",
       "      <td>408</td>\n",
       "      <td>375-9999</td>\n",
       "      <td>yes</td>\n",
       "      <td>no</td>\n",
       "      <td>0</td>\n",
       "      <td>299.4</td>\n",
       "      <td>71</td>\n",
       "      <td>50.90</td>\n",
       "      <td>...</td>\n",
       "      <td>88</td>\n",
       "      <td>5.26</td>\n",
       "      <td>196.9</td>\n",
       "      <td>89</td>\n",
       "      <td>8.86</td>\n",
       "      <td>6.6</td>\n",
       "      <td>7</td>\n",
       "      <td>1.78</td>\n",
       "      <td>2</td>\n",
       "      <td>False</td>\n",
       "    </tr>\n",
       "    <tr>\n",
       "      <th>4</th>\n",
       "      <td>OK</td>\n",
       "      <td>75</td>\n",
       "      <td>415</td>\n",
       "      <td>330-6626</td>\n",
       "      <td>yes</td>\n",
       "      <td>no</td>\n",
       "      <td>0</td>\n",
       "      <td>166.7</td>\n",
       "      <td>113</td>\n",
       "      <td>28.34</td>\n",
       "      <td>...</td>\n",
       "      <td>122</td>\n",
       "      <td>12.61</td>\n",
       "      <td>186.9</td>\n",
       "      <td>121</td>\n",
       "      <td>8.41</td>\n",
       "      <td>10.1</td>\n",
       "      <td>3</td>\n",
       "      <td>2.73</td>\n",
       "      <td>3</td>\n",
       "      <td>False</td>\n",
       "    </tr>\n",
       "  </tbody>\n",
       "</table>\n",
       "<p>5 rows × 21 columns</p>\n",
       "</div>"
      ],
      "text/plain": [
       "  state  account length  area code phone number international plan  \\\n",
       "0    KS             128        415     382-4657                 no   \n",
       "1    OH             107        415     371-7191                 no   \n",
       "2    NJ             137        415     358-1921                 no   \n",
       "3    OH              84        408     375-9999                yes   \n",
       "4    OK              75        415     330-6626                yes   \n",
       "\n",
       "  voice mail plan  number vmail messages  total day minutes  total day calls  \\\n",
       "0             yes                     25              265.1              110   \n",
       "1             yes                     26              161.6              123   \n",
       "2              no                      0              243.4              114   \n",
       "3              no                      0              299.4               71   \n",
       "4              no                      0              166.7              113   \n",
       "\n",
       "   total day charge  ...  total eve calls  total eve charge  \\\n",
       "0             45.07  ...               99             16.78   \n",
       "1             27.47  ...              103             16.62   \n",
       "2             41.38  ...              110             10.30   \n",
       "3             50.90  ...               88              5.26   \n",
       "4             28.34  ...              122             12.61   \n",
       "\n",
       "   total night minutes  total night calls  total night charge  \\\n",
       "0                244.7                 91               11.01   \n",
       "1                254.4                103               11.45   \n",
       "2                162.6                104                7.32   \n",
       "3                196.9                 89                8.86   \n",
       "4                186.9                121                8.41   \n",
       "\n",
       "   total intl minutes  total intl calls  total intl charge  \\\n",
       "0                10.0                 3               2.70   \n",
       "1                13.7                 3               3.70   \n",
       "2                12.2                 5               3.29   \n",
       "3                 6.6                 7               1.78   \n",
       "4                10.1                 3               2.73   \n",
       "\n",
       "   customer service calls  churn  \n",
       "0                       1  False  \n",
       "1                       1  False  \n",
       "2                       0  False  \n",
       "3                       2  False  \n",
       "4                       3  False  \n",
       "\n",
       "[5 rows x 21 columns]"
      ]
     },
     "execution_count": 2,
     "metadata": {},
     "output_type": "execute_result"
    }
   ],
   "source": [
    "# loading data\n",
    "data = pd.read_csv('churn.csv')\n",
    "data.head()"
   ]
  },
  {
   "cell_type": "markdown",
   "id": "416d5f76",
   "metadata": {},
   "source": [
    "<b>Class Describer</b> to cater for data understanding."
   ]
  },
  {
   "cell_type": "code",
   "execution_count": 3,
   "id": "cb648bab",
   "metadata": {},
   "outputs": [],
   "source": [
    "# class to describe dataset\n",
    "\n",
    "class Describer:\n",
    "    \n",
    "    # initialize object\n",
    "    def __init__(self, df):\n",
    "        self.df = df\n",
    "        \n",
    "    # method to check shape of data\n",
    "    def shape(self):\n",
    "        out = print(f\"The DataFrame has:\\n\\t* {self.df.shape[0]} rows\\n\\t* {self.df.shape[1]} columns\", '\\n')\n",
    "        return out\n",
    "    \n",
    "    # method to check info on dataset\n",
    "    def data_info(self):\n",
    "        out = print(self.df.info(), '\\n')\n",
    "        return out\n",
    "    \n",
    "    # method to describe numerical columns\n",
    "    def data_describe(self):\n",
    "        out = self.df.describe()\n",
    "        return out\n",
    "    "
   ]
  },
  {
   "cell_type": "code",
   "execution_count": 4,
   "id": "f0efe768",
   "metadata": {},
   "outputs": [
    {
     "name": "stdout",
     "output_type": "stream",
     "text": [
      "The DataFrame has:\n",
      "\t* 3333 rows\n",
      "\t* 21 columns \n",
      "\n"
     ]
    }
   ],
   "source": [
    "# creating an instance of the class describer\n",
    "describe_df = Describer(data)\n",
    "\n",
    "# lets view the shape of the data\n",
    "describe_df.shape()"
   ]
  },
  {
   "cell_type": "code",
   "execution_count": 5,
   "id": "f30513e4",
   "metadata": {},
   "outputs": [
    {
     "name": "stdout",
     "output_type": "stream",
     "text": [
      "Summary infomation on dataset\n",
      "-----------------------------------------------\n",
      "<class 'pandas.core.frame.DataFrame'>\n",
      "RangeIndex: 3333 entries, 0 to 3332\n",
      "Data columns (total 21 columns):\n",
      " #   Column                  Non-Null Count  Dtype  \n",
      "---  ------                  --------------  -----  \n",
      " 0   state                   3333 non-null   object \n",
      " 1   account length          3333 non-null   int64  \n",
      " 2   area code               3333 non-null   int64  \n",
      " 3   phone number            3333 non-null   object \n",
      " 4   international plan      3333 non-null   object \n",
      " 5   voice mail plan         3333 non-null   object \n",
      " 6   number vmail messages   3333 non-null   int64  \n",
      " 7   total day minutes       3333 non-null   float64\n",
      " 8   total day calls         3333 non-null   int64  \n",
      " 9   total day charge        3333 non-null   float64\n",
      " 10  total eve minutes       3333 non-null   float64\n",
      " 11  total eve calls         3333 non-null   int64  \n",
      " 12  total eve charge        3333 non-null   float64\n",
      " 13  total night minutes     3333 non-null   float64\n",
      " 14  total night calls       3333 non-null   int64  \n",
      " 15  total night charge      3333 non-null   float64\n",
      " 16  total intl minutes      3333 non-null   float64\n",
      " 17  total intl calls        3333 non-null   int64  \n",
      " 18  total intl charge       3333 non-null   float64\n",
      " 19  customer service calls  3333 non-null   int64  \n",
      " 20  churn                   3333 non-null   bool   \n",
      "dtypes: bool(1), float64(8), int64(8), object(4)\n",
      "memory usage: 524.2+ KB\n",
      "None \n",
      "\n"
     ]
    }
   ],
   "source": [
    "# lets print summary infomation on the dataset\n",
    "print('Summary infomation on dataset')\n",
    "print('-----------------------------------------------')\n",
    "describe_df.data_info()"
   ]
  },
  {
   "cell_type": "code",
   "execution_count": 6,
   "id": "dc9a3c7f",
   "metadata": {},
   "outputs": [
    {
     "data": {
      "text/html": [
       "<div>\n",
       "<style scoped>\n",
       "    .dataframe tbody tr th:only-of-type {\n",
       "        vertical-align: middle;\n",
       "    }\n",
       "\n",
       "    .dataframe tbody tr th {\n",
       "        vertical-align: top;\n",
       "    }\n",
       "\n",
       "    .dataframe thead th {\n",
       "        text-align: right;\n",
       "    }\n",
       "</style>\n",
       "<table border=\"1\" class=\"dataframe\">\n",
       "  <thead>\n",
       "    <tr style=\"text-align: right;\">\n",
       "      <th></th>\n",
       "      <th>account length</th>\n",
       "      <th>area code</th>\n",
       "      <th>number vmail messages</th>\n",
       "      <th>total day minutes</th>\n",
       "      <th>total day calls</th>\n",
       "      <th>total day charge</th>\n",
       "      <th>total eve minutes</th>\n",
       "      <th>total eve calls</th>\n",
       "      <th>total eve charge</th>\n",
       "      <th>total night minutes</th>\n",
       "      <th>total night calls</th>\n",
       "      <th>total night charge</th>\n",
       "      <th>total intl minutes</th>\n",
       "      <th>total intl calls</th>\n",
       "      <th>total intl charge</th>\n",
       "      <th>customer service calls</th>\n",
       "    </tr>\n",
       "  </thead>\n",
       "  <tbody>\n",
       "    <tr>\n",
       "      <th>count</th>\n",
       "      <td>3333.000000</td>\n",
       "      <td>3333.000000</td>\n",
       "      <td>3333.000000</td>\n",
       "      <td>3333.000000</td>\n",
       "      <td>3333.000000</td>\n",
       "      <td>3333.000000</td>\n",
       "      <td>3333.000000</td>\n",
       "      <td>3333.000000</td>\n",
       "      <td>3333.000000</td>\n",
       "      <td>3333.000000</td>\n",
       "      <td>3333.000000</td>\n",
       "      <td>3333.000000</td>\n",
       "      <td>3333.000000</td>\n",
       "      <td>3333.000000</td>\n",
       "      <td>3333.000000</td>\n",
       "      <td>3333.000000</td>\n",
       "    </tr>\n",
       "    <tr>\n",
       "      <th>mean</th>\n",
       "      <td>101.064806</td>\n",
       "      <td>437.182418</td>\n",
       "      <td>8.099010</td>\n",
       "      <td>179.775098</td>\n",
       "      <td>100.435644</td>\n",
       "      <td>30.562307</td>\n",
       "      <td>200.980348</td>\n",
       "      <td>100.114311</td>\n",
       "      <td>17.083540</td>\n",
       "      <td>200.872037</td>\n",
       "      <td>100.107711</td>\n",
       "      <td>9.039325</td>\n",
       "      <td>10.237294</td>\n",
       "      <td>4.479448</td>\n",
       "      <td>2.764581</td>\n",
       "      <td>1.562856</td>\n",
       "    </tr>\n",
       "    <tr>\n",
       "      <th>std</th>\n",
       "      <td>39.822106</td>\n",
       "      <td>42.371290</td>\n",
       "      <td>13.688365</td>\n",
       "      <td>54.467389</td>\n",
       "      <td>20.069084</td>\n",
       "      <td>9.259435</td>\n",
       "      <td>50.713844</td>\n",
       "      <td>19.922625</td>\n",
       "      <td>4.310668</td>\n",
       "      <td>50.573847</td>\n",
       "      <td>19.568609</td>\n",
       "      <td>2.275873</td>\n",
       "      <td>2.791840</td>\n",
       "      <td>2.461214</td>\n",
       "      <td>0.753773</td>\n",
       "      <td>1.315491</td>\n",
       "    </tr>\n",
       "    <tr>\n",
       "      <th>min</th>\n",
       "      <td>1.000000</td>\n",
       "      <td>408.000000</td>\n",
       "      <td>0.000000</td>\n",
       "      <td>0.000000</td>\n",
       "      <td>0.000000</td>\n",
       "      <td>0.000000</td>\n",
       "      <td>0.000000</td>\n",
       "      <td>0.000000</td>\n",
       "      <td>0.000000</td>\n",
       "      <td>23.200000</td>\n",
       "      <td>33.000000</td>\n",
       "      <td>1.040000</td>\n",
       "      <td>0.000000</td>\n",
       "      <td>0.000000</td>\n",
       "      <td>0.000000</td>\n",
       "      <td>0.000000</td>\n",
       "    </tr>\n",
       "    <tr>\n",
       "      <th>25%</th>\n",
       "      <td>74.000000</td>\n",
       "      <td>408.000000</td>\n",
       "      <td>0.000000</td>\n",
       "      <td>143.700000</td>\n",
       "      <td>87.000000</td>\n",
       "      <td>24.430000</td>\n",
       "      <td>166.600000</td>\n",
       "      <td>87.000000</td>\n",
       "      <td>14.160000</td>\n",
       "      <td>167.000000</td>\n",
       "      <td>87.000000</td>\n",
       "      <td>7.520000</td>\n",
       "      <td>8.500000</td>\n",
       "      <td>3.000000</td>\n",
       "      <td>2.300000</td>\n",
       "      <td>1.000000</td>\n",
       "    </tr>\n",
       "    <tr>\n",
       "      <th>50%</th>\n",
       "      <td>101.000000</td>\n",
       "      <td>415.000000</td>\n",
       "      <td>0.000000</td>\n",
       "      <td>179.400000</td>\n",
       "      <td>101.000000</td>\n",
       "      <td>30.500000</td>\n",
       "      <td>201.400000</td>\n",
       "      <td>100.000000</td>\n",
       "      <td>17.120000</td>\n",
       "      <td>201.200000</td>\n",
       "      <td>100.000000</td>\n",
       "      <td>9.050000</td>\n",
       "      <td>10.300000</td>\n",
       "      <td>4.000000</td>\n",
       "      <td>2.780000</td>\n",
       "      <td>1.000000</td>\n",
       "    </tr>\n",
       "    <tr>\n",
       "      <th>75%</th>\n",
       "      <td>127.000000</td>\n",
       "      <td>510.000000</td>\n",
       "      <td>20.000000</td>\n",
       "      <td>216.400000</td>\n",
       "      <td>114.000000</td>\n",
       "      <td>36.790000</td>\n",
       "      <td>235.300000</td>\n",
       "      <td>114.000000</td>\n",
       "      <td>20.000000</td>\n",
       "      <td>235.300000</td>\n",
       "      <td>113.000000</td>\n",
       "      <td>10.590000</td>\n",
       "      <td>12.100000</td>\n",
       "      <td>6.000000</td>\n",
       "      <td>3.270000</td>\n",
       "      <td>2.000000</td>\n",
       "    </tr>\n",
       "    <tr>\n",
       "      <th>max</th>\n",
       "      <td>243.000000</td>\n",
       "      <td>510.000000</td>\n",
       "      <td>51.000000</td>\n",
       "      <td>350.800000</td>\n",
       "      <td>165.000000</td>\n",
       "      <td>59.640000</td>\n",
       "      <td>363.700000</td>\n",
       "      <td>170.000000</td>\n",
       "      <td>30.910000</td>\n",
       "      <td>395.000000</td>\n",
       "      <td>175.000000</td>\n",
       "      <td>17.770000</td>\n",
       "      <td>20.000000</td>\n",
       "      <td>20.000000</td>\n",
       "      <td>5.400000</td>\n",
       "      <td>9.000000</td>\n",
       "    </tr>\n",
       "  </tbody>\n",
       "</table>\n",
       "</div>"
      ],
      "text/plain": [
       "       account length    area code  number vmail messages  total day minutes  \\\n",
       "count     3333.000000  3333.000000            3333.000000        3333.000000   \n",
       "mean       101.064806   437.182418               8.099010         179.775098   \n",
       "std         39.822106    42.371290              13.688365          54.467389   \n",
       "min          1.000000   408.000000               0.000000           0.000000   \n",
       "25%         74.000000   408.000000               0.000000         143.700000   \n",
       "50%        101.000000   415.000000               0.000000         179.400000   \n",
       "75%        127.000000   510.000000              20.000000         216.400000   \n",
       "max        243.000000   510.000000              51.000000         350.800000   \n",
       "\n",
       "       total day calls  total day charge  total eve minutes  total eve calls  \\\n",
       "count      3333.000000       3333.000000        3333.000000      3333.000000   \n",
       "mean        100.435644         30.562307         200.980348       100.114311   \n",
       "std          20.069084          9.259435          50.713844        19.922625   \n",
       "min           0.000000          0.000000           0.000000         0.000000   \n",
       "25%          87.000000         24.430000         166.600000        87.000000   \n",
       "50%         101.000000         30.500000         201.400000       100.000000   \n",
       "75%         114.000000         36.790000         235.300000       114.000000   \n",
       "max         165.000000         59.640000         363.700000       170.000000   \n",
       "\n",
       "       total eve charge  total night minutes  total night calls  \\\n",
       "count       3333.000000          3333.000000        3333.000000   \n",
       "mean          17.083540           200.872037         100.107711   \n",
       "std            4.310668            50.573847          19.568609   \n",
       "min            0.000000            23.200000          33.000000   \n",
       "25%           14.160000           167.000000          87.000000   \n",
       "50%           17.120000           201.200000         100.000000   \n",
       "75%           20.000000           235.300000         113.000000   \n",
       "max           30.910000           395.000000         175.000000   \n",
       "\n",
       "       total night charge  total intl minutes  total intl calls  \\\n",
       "count         3333.000000         3333.000000       3333.000000   \n",
       "mean             9.039325           10.237294          4.479448   \n",
       "std              2.275873            2.791840          2.461214   \n",
       "min              1.040000            0.000000          0.000000   \n",
       "25%              7.520000            8.500000          3.000000   \n",
       "50%              9.050000           10.300000          4.000000   \n",
       "75%             10.590000           12.100000          6.000000   \n",
       "max             17.770000           20.000000         20.000000   \n",
       "\n",
       "       total intl charge  customer service calls  \n",
       "count        3333.000000             3333.000000  \n",
       "mean            2.764581                1.562856  \n",
       "std             0.753773                1.315491  \n",
       "min             0.000000                0.000000  \n",
       "25%             2.300000                1.000000  \n",
       "50%             2.780000                1.000000  \n",
       "75%             3.270000                2.000000  \n",
       "max             5.400000                9.000000  "
      ]
     },
     "execution_count": 6,
     "metadata": {},
     "output_type": "execute_result"
    }
   ],
   "source": [
    "# calling method to describe numerical columns\n",
    "describe_df.data_describe()"
   ]
  },
  {
   "cell_type": "markdown",
   "id": "54be6a9a",
   "metadata": {},
   "source": [
    "### summary on data undertanding.\n",
    "\n",
    "From the class describer, the dataset has:\n",
    "\n",
    "* 3333 customers.\n",
    "* 21 customer features: 4 string predictors, 16 numeric predictors and the target.\n",
    "* Various transformations will be applied on the dataset both for analysis and modeling e.g type conversions, feature seleciton etc.\n"
   ]
  },
  {
   "cell_type": "code",
   "execution_count": null,
   "id": "6fc8b920",
   "metadata": {},
   "outputs": [],
   "source": []
  },
  {
   "cell_type": "markdown",
   "id": "803ea89a",
   "metadata": {},
   "source": [
    "<h2>3.Data Preparation</h2>"
   ]
  },
  {
   "cell_type": "markdown",
   "id": "3fc74ff3",
   "metadata": {},
   "source": [
    "<h4>Data cleaning</h4>\n",
    "\n",
    "In this section we will clean the dataset by dealing with:\n",
    "> * Missing values\n",
    "> * Duplicated values\n",
    "> * Outliers\n",
    "> * Inconsistencies in the dataset\n",
    "\n",
    "We create a class to handle the cleaning process. The class will be able to identify missing values, duplicates both generally and using a unique column.\n"
   ]
  },
  {
   "cell_type": "code",
   "execution_count": 7,
   "id": "b43efa4b",
   "metadata": {},
   "outputs": [],
   "source": [
    "# preparing the data for analysis\n",
    "\n",
    "class Cleaner:\n",
    "    \n",
    "    # object initializer\n",
    "    def __init__(self, df):\n",
    "        self.df = df\n",
    "        \n",
    "    # method to check for missing values\n",
    "    def data_missing(self):\n",
    "        \"\"\"Identify if the data has missing values\"\"\"\n",
    "        # identify if data has missing values(data.isnull().any())\n",
    "        # empty dict to store missing values\n",
    "        missing = []\n",
    "        for i in self.df.isnull().any():\n",
    "            # add the bool values to empty list \n",
    "            missing.append(i)\n",
    "        # covert list to set (if data has missing value, the list should have true and false)\n",
    "        missing_set = set(missing)\n",
    "        if (len(missing_set) == 1):\n",
    "            out = print(\"The Data has no missing values\", '\\n')\n",
    "        else:\n",
    "            out = print(f\"The Data has missing values.\", '\\n')\n",
    "\n",
    "        return out\n",
    "    \n",
    "    # method to check for duplicates\n",
    "    def identify_duplicates(self):\n",
    "        duplicates = []   # empty list to store Bool results from duplicated\n",
    "        for i in self.df.duplicated():\n",
    "            duplicates.append(i)\n",
    "        # identify if there is any duplicates. (If there is any we expect a True value in the list duplicates)\n",
    "        duplicates_set = set(duplicates) \n",
    "        if (len(duplicates_set) == 1):\n",
    "            out = print(\"The Data has no duplicates\", '\\n')\n",
    "        else:\n",
    "            no_true = 0\n",
    "            for val in duplicates:\n",
    "                if (val == True):\n",
    "                    no_true += 1\n",
    "            # percentage of the data represented by duplicates \n",
    "            duplicates_percentage = np.round(((no_true / len(self.df)) * 100), 3)\n",
    "            out = print(f\"The Data has {no_true} duplicated rows.\\nThis constitutes {duplicates_percentage}% of the data set.\")\n",
    "        return out\n",
    "  \n",
    "    # method to check for duplicated values in unique column phone number\n",
    "    def unique_column_duplicates(self, column):\n",
    "        \n",
    "        # empty list to store the duplicate bools\n",
    "        duplicates = []\n",
    "        for i in self.df[column].duplicated():\n",
    "            duplicates.append(i)\n",
    "\n",
    "        # identify if there are any duplicates\n",
    "        duplicates_set = set(duplicates)\n",
    "        if (len(duplicates_set) == 1):\n",
    "            out = print(f\"The column {column.title()} has no duplicates\", '\\n')\n",
    "        else:\n",
    "            no_true = 0\n",
    "            for val in duplicates:\n",
    "                if (val == True):\n",
    "                    no_true += 1\n",
    "            # percentage of the data represented by duplicates \n",
    "            duplicates_percentage = np.round(((no_true / len(self.df)) * 100), 3)\n",
    "            out = print(f\"The column {column.title()} has {no_true} duplicated rows.\\nThis constitutes {duplicates_percentage}% of the dataset.\")\n",
    "        return out"
   ]
  },
  {
   "cell_type": "code",
   "execution_count": 8,
   "id": "3a1bc61c",
   "metadata": {},
   "outputs": [],
   "source": [
    "# creating an instance of the class Cleaner\n",
    "cleaned_df = Cleaner(data)"
   ]
  },
  {
   "cell_type": "markdown",
   "id": "98a9cd09",
   "metadata": {},
   "source": [
    "<h4>Checking for Missing values</h4>"
   ]
  },
  {
   "cell_type": "code",
   "execution_count": 9,
   "id": "d99e66e2",
   "metadata": {},
   "outputs": [
    {
     "name": "stdout",
     "output_type": "stream",
     "text": [
      "The Data has no missing values \n",
      "\n"
     ]
    }
   ],
   "source": [
    "# lets check for missing values\n",
    "cleaned_df.data_missing()"
   ]
  },
  {
   "cell_type": "markdown",
   "id": "f5f0ad43",
   "metadata": {},
   "source": [
    "<h4>checking for Duplicated values</h4>"
   ]
  },
  {
   "cell_type": "code",
   "execution_count": 10,
   "id": "eebe20ea",
   "metadata": {},
   "outputs": [
    {
     "name": "stdout",
     "output_type": "stream",
     "text": [
      "The Data has no duplicates \n",
      "\n"
     ]
    }
   ],
   "source": [
    "# lets check for duplicates\n",
    "cleaned_df.identify_duplicates()"
   ]
  },
  {
   "cell_type": "markdown",
   "id": "cd39bc51",
   "metadata": {},
   "source": [
    "<h4>Duplicated values in unique column</h4>\n",
    "\n",
    "* A relevant column that can serve as a unique identifier is the phone number column. Lets check for outliers referencing that column. "
   ]
  },
  {
   "cell_type": "code",
   "execution_count": 11,
   "id": "ade4437b",
   "metadata": {},
   "outputs": [
    {
     "name": "stdout",
     "output_type": "stream",
     "text": [
      "The column Phone Number has no duplicates \n",
      "\n"
     ]
    }
   ],
   "source": [
    "cleaned_df.unique_column_duplicates('phone number')"
   ]
  },
  {
   "cell_type": "markdown",
   "id": "4aab1299",
   "metadata": {},
   "source": [
    "<h4>Type inconsistencies</h4>"
   ]
  },
  {
   "cell_type": "markdown",
   "id": "61901c17",
   "metadata": {},
   "source": [
    "* The Phone number column is stored as a string which seemed a bit odd but after review found that it was indeed correct. Mobile phone numbers are not stored as integers, as the integer data type holds values that have the potential to be used in calculations. There is no context for using a mobile phone number as part of a calculation, so it is stored as a STRING value."
   ]
  },
  {
   "cell_type": "markdown",
   "id": "ef1872f6",
   "metadata": {},
   "source": [
    "<h4>Ouliers</h4>"
   ]
  },
  {
   "cell_type": "code",
   "execution_count": 12,
   "id": "a33c77ce",
   "metadata": {},
   "outputs": [
    {
     "data": {
      "image/png": "[encoded data removed]",
      "text/plain": [
       "<Figure size 1800x576 with 1 Axes>"
      ]
     },
     "metadata": {},
     "output_type": "display_data"
    }
   ],
   "source": [
    "# lets visualize the ouliers of numerical columns\n",
    "\n",
    "subset = data.select_dtypes(exclude=['object', 'bool'])\n",
    "columnss = subset.columns\n",
    "data[columnss].boxplot(figsize=(25,8))\n",
    "plt.yscale('log')\n",
    "plt.title('Graph illustrating Outliers in the dataset')\n",
    "plt.xlabel('Columns')\n",
    "plt.show()"
   ]
  },
  {
   "cell_type": "markdown",
   "id": "ef7fda09",
   "metadata": {},
   "source": [
    "<b>Conclusion</b>: Outliers as shown above will not be removed.\n",
    "<br>\n",
    "<b>Justification</b>:\n",
    "\n",
    "* They are true outliers. Most of the ouliers revolve around talk duration on the phone. It is plausible that a customer may talk for 350 minutes in a day either continuously or discretely.\n",
    "* The length of the data is too small to drop the outliers ergo will not be touched.\n",
    "    "
   ]
  },
  {
   "cell_type": "markdown",
   "id": "3f015b88",
   "metadata": {},
   "source": [
    "### Summary on data preparation.\n",
    "\n",
    "* The Data has no missing values.\n",
    "* The Data has no duplicates.\n",
    "* The unique column Phone Number has no duplicates\n",
    "* Outliers as shown above will not be removed, see justification above."
   ]
  },
  {
   "cell_type": "markdown",
   "id": "01b98a3e",
   "metadata": {},
   "source": [
    "<h2>4. Exploratory Data Analysis</h2>\n",
    "\n",
    "In this section, we will explore univariate EDA and bivariate EDA.\n",
    "* Overall churn ratio.\n",
    "* Churn against states.\n",
    "* Churn against international plan.\n",
    "* Churn against voice mail plan.\n",
    "* Churn against number of customer service calls.\n",
    "    "
   ]
  },
  {
   "cell_type": "markdown",
   "id": "99589b1f",
   "metadata": {},
   "source": [
    "<h3>4.1. Univariate Analysis</h3>\n",
    "\n",
    "<h5>Overall churn ratio</h5>"
   ]
  },
  {
   "cell_type": "code",
   "execution_count": 13,
   "id": "63bd5652",
   "metadata": {},
   "outputs": [
    {
     "data": {
      "image/png": "[encoded data removed]",
      "text/plain": [
       "<Figure size 504x504 with 1 Axes>"
      ]
     },
     "metadata": {},
     "output_type": "display_data"
    }
   ],
   "source": [
    "# lets see the churn rate\n",
    "churn_ratio = data['churn'].value_counts()\n",
    "\n",
    "plt.figure(figsize=(7,7))\n",
    "sns.barplot(x=churn_ratio.index, y=churn_ratio.values)\n",
    "plt.xlabel('Churn')\n",
    "plt.ylabel('Count')\n",
    "plt.title('Churn Count Distribution')\n",
    "plt.show()"
   ]
  },
  {
   "cell_type": "markdown",
   "id": "a4cb1673",
   "metadata": {},
   "source": [
    "<b>Intepretation</b>\n",
    "\n",
    "* From the graph above we can see that the churn ratio is imbalanced. This is good news for the company as the goal is to make profit and this is only realized if customers stay with the business.\n",
    "* Further reduction in churn is what the project seeks to aid in\n",
    "* When it comes to modelling, due to the imbalance issue, we will have to employ oversampling techniques such as SMOTE so that we avoid overfitting."
   ]
  },
  {
   "cell_type": "markdown",
   "id": "fafccdf5",
   "metadata": {},
   "source": [
    "<h3>4.2. Bivariate Analysis</h3>"
   ]
  },
  {
   "cell_type": "markdown",
   "id": "47c05f34",
   "metadata": {},
   "source": [
    "<h5>Churn ratio categorised according to states</h5>"
   ]
  },
  {
   "cell_type": "code",
   "execution_count": 14,
   "id": "15a2de4c",
   "metadata": {},
   "outputs": [
    {
     "data": {
      "image/png": "[encoded data removed]",
      "text/plain": [
       "<Figure size 1512x504 with 1 Axes>"
      ]
     },
     "metadata": {},
     "output_type": "display_data"
    }
   ],
   "source": [
    "# lets see see churn state wise\n",
    "state_group = data.groupby('state')['churn'].value_counts().reset_index(name='count')\n",
    "# Calculate the ascending order of states based on churn count\n",
    "ascending_order = state_group.groupby('state')['count'].sum().sort_values().index\n",
    "\n",
    "plt.figure(figsize=(21,7))\n",
    "sns.barplot(x='state', y='count', hue='churn', data=state_group, order=ascending_order)\n",
    "plt.xlabel('States')\n",
    "plt.ylabel('Count')\n",
    "plt.title('Churn Count Distribution state-wise')\n",
    "plt.show()"
   ]
  },
  {
   "cell_type": "markdown",
   "id": "e44724f4",
   "metadata": {},
   "source": [
    "<b>Intepretation</b>\n",
    "\n",
    "* The graph above shows the distribution of churn count state wise.\n",
    "* We can see that state NJ and TX have the highest churn count revealing that most of the customers there are likely to defect to other service providers.\n",
    "* state WV has the lowest churn ratio."
   ]
  },
  {
   "cell_type": "markdown",
   "id": "58a1e5f9",
   "metadata": {},
   "source": [
    "<h5>Churn ratio categorised according to customers who have an international plan</h5>"
   ]
  },
  {
   "cell_type": "code",
   "execution_count": 15,
   "id": "ed9c842b",
   "metadata": {},
   "outputs": [
    {
     "data": {
      "image/png": "[encoded data removed]",
      "text/plain": [
       "<Figure size 864x504 with 1 Axes>"
      ]
     },
     "metadata": {},
     "output_type": "display_data"
    }
   ],
   "source": [
    "# lets compare churn to international plan\n",
    "international_group = data.groupby('international plan')['churn'].value_counts().reset_index(name='count')\n",
    "\n",
    "plt.figure(figsize=(12,7))\n",
    "sns.barplot(x='international plan', y='count', hue='churn', data=international_group)\n",
    "plt.xlabel('International Plan')\n",
    "plt.ylabel('Count')\n",
    "plt.title('Churn Count Distribution based on International Plan')\n",
    "plt.show()"
   ]
  },
  {
   "cell_type": "markdown",
   "id": "3cb6a34a",
   "metadata": {},
   "source": [
    "<h4>Intepretation</h4>\n",
    "\n",
    "* From the graph above it is evident that customers on the international plan were less likely to end their business with the company. It may be because the company offers the best international plan relative to other service providers."
   ]
  },
  {
   "cell_type": "markdown",
   "id": "1e02347c",
   "metadata": {},
   "source": [
    "<h5>Churn ratio categorised according to customers who have a Voice mail plan</h5>"
   ]
  },
  {
   "cell_type": "code",
   "execution_count": 16,
   "id": "d55b1776",
   "metadata": {},
   "outputs": [
    {
     "data": {
      "image/png": "[encoded data removed]",
      "text/plain": [
       "<Figure size 864x504 with 1 Axes>"
      ]
     },
     "metadata": {},
     "output_type": "display_data"
    }
   ],
   "source": [
    "# lets see churn against voice mail plan\n",
    "\n",
    "voicemail_group = data.groupby('voice mail plan')['churn'].value_counts().reset_index(name='count')\n",
    "\n",
    "plt.figure(figsize=(12,7))\n",
    "sns.barplot(x='voice mail plan', y='count', hue='churn', data=voicemail_group)\n",
    "plt.xlabel('Voice mail Plan')\n",
    "plt.ylabel('Count')\n",
    "plt.title('Churn Count Distribution based on Voice Mail Plan')\n",
    "plt.show()"
   ]
  },
  {
   "cell_type": "markdown",
   "id": "69711ebc",
   "metadata": {},
   "source": [
    "<h4>Intepretation</h4>\n",
    "\n",
    "* From the graph it is quite clear that customers who lacked a Voice mail plan churned more relative to those who had it. The company should look into possibly giving all their customers a voice mail plan."
   ]
  },
  {
   "cell_type": "markdown",
   "id": "3ddc3785",
   "metadata": {},
   "source": [
    "<h5>Churn ratio categorised according to number of customer service calls</h5>"
   ]
  },
  {
   "cell_type": "code",
   "execution_count": 17,
   "id": "02f849c4",
   "metadata": {},
   "outputs": [
    {
     "data": {
      "image/png": "[encoded data removed]",
      "text/plain": [
       "<Figure size 864x504 with 1 Axes>"
      ]
     },
     "metadata": {},
     "output_type": "display_data"
    }
   ],
   "source": [
    "# lets see churn against customer service calls\n",
    "\n",
    "customer_group = data.groupby('customer service calls')['churn'].value_counts().reset_index(name='count')\n",
    "\n",
    "plt.figure(figsize=(12,7))\n",
    "sns.barplot(x='customer service calls', y='count', hue='churn', data=customer_group)\n",
    "plt.yscale('log')\n",
    "plt.xlabel('customer service calls')\n",
    "plt.ylabel('Count')\n",
    "plt.title('Churn Count Distribution based on customer service calls')\n",
    "plt.show()"
   ]
  },
  {
   "cell_type": "markdown",
   "id": "22b20ba2",
   "metadata": {},
   "source": [
    "<h4>intepretation</h4>\n",
    "\n",
    "* From the graph it is evident that Most of the churn numbers came from customers who had called the telecom company atleast once.\n",
    "* This may be an indication that after the call their issues were likely not sorted or they received bad customer service.\n",
    "* Past 4 customer service calls resulted in an increase in churn rate where more customers dropped off from the service provider relative to those who did not drop off.\n",
    "* This may be an indication that customer service is a big contributor to churn."
   ]
  },
  {
   "cell_type": "markdown",
   "id": "176caba4",
   "metadata": {},
   "source": [
    "### summary of EDA \n",
    "\n",
    "* From the analysis above it is evident that the areas explored need to be considered when improving services of the company.\n",
    "* More features will be explored in modelling to add on to the recommendations."
   ]
  },
  {
   "cell_type": "markdown",
   "id": "98534fba",
   "metadata": {},
   "source": [
    "<h2>5. Preprocessing</h2>\n",
    "\n",
    "* In this section we will prepare the data for modeling.\n",
    "* Some of the preprocessing that will take place here include:\n",
    "> * Feature selection.\n",
    "> * Train test split.\n",
    "> * Encoding: dummy encoding and basic replace application.\n",
    "\n",
    "<b>Simple is better than Complex</b>"
   ]
  },
  {
   "cell_type": "markdown",
   "id": "079c6e3b",
   "metadata": {},
   "source": [
    "<h3>5.1. Feature selection</h3>\n",
    "\n",
    "* Here we investigate the important features of the data set and choose them to reduce complexity of the models ergo avoiding overfitting from the get go.\n",
    "* The criteria used to select relevant columns is <b>domain knowledge and feature importance analysis provided by decision trees.</b>.\n",
    "* Based on telecom domain knowledge, the following features may be relevant for churn prediction:\n",
    "> * state - The geographic location of the customer could potentially play a role in churn behavior, as different states may have varying levels of competition, coverage, or customer preferences.\n",
    "> * account length - The duration of the customer's account with the telecom company may provide insights into customer loyalty and the likelihood of churn.\n",
    "> * international plan - This feature indicates whether the customer has an international calling plan.\n",
    "> * voice mail plan and number vmail messages - These features capture whether the customer has a voicemail plan and the number of voicemail messages.\n",
    "> * customer service calls - The number of customer service calls made by the customer could indicate dissatisfaction or issues that may lead to churn.\n",
    "> * 'total day minutes', 'total day calls', 'total day charge', 'total eve minutes', 'total eve calls', 'total eve charge', 'total night minutes', 'total night calls', 'total night charge', 'total intl minutes', 'total intl calls', 'total intl charge': These features represent the usage and charges for different time periods (day, evening, night, international). Usage patterns and charges across different time periods can provide insights into customer behavior and preferences."
   ]
  },
  {
   "cell_type": "code",
   "execution_count": 18,
   "id": "b8083079",
   "metadata": {},
   "outputs": [],
   "source": [
    "# with the info above, the following columns were seen fit for the job\n",
    "\n",
    "relevant_columns = ['state',  \n",
    "                    'international plan', \n",
    "                    'voice mail plan', \n",
    "                    'number vmail messages', \n",
    "                    'total day minutes', \n",
    "                    'total day calls', \n",
    "                    'total day charge', \n",
    "                    'total eve minutes', \n",
    "                    'total eve calls', \n",
    "                    'total eve charge', \n",
    "                    'total night minutes', \n",
    "                    'total night calls', \n",
    "                    'total night charge', \n",
    "                    'total intl minutes', \n",
    "                    'total intl calls', \n",
    "                    'total intl charge', \n",
    "                    'customer service calls', \n",
    "                    'churn']"
   ]
  },
  {
   "cell_type": "markdown",
   "id": "f4b423af",
   "metadata": {},
   "source": [
    "* This will serve as the features we will serve to our baseline model.\n",
    "* Afterwards we will plot the feature importance to see how each feature contributes to the target, resulting in a further scaling down in the number of predictors."
   ]
  },
  {
   "cell_type": "markdown",
   "id": "d7f59ad5",
   "metadata": {},
   "source": [
    "### 5.2. Train-test Split"
   ]
  },
  {
   "cell_type": "code",
   "execution_count": 19,
   "id": "222f2a5a",
   "metadata": {},
   "outputs": [
    {
     "data": {
      "text/plain": [
       "(3333, 18)"
      ]
     },
     "execution_count": 19,
     "metadata": {},
     "output_type": "execute_result"
    }
   ],
   "source": [
    "# creating a subset containing the relevant columns\n",
    "subset_data = data.loc[:, relevant_columns]\n",
    "subset_data.shape"
   ]
  },
  {
   "cell_type": "code",
   "execution_count": 20,
   "id": "4069a769",
   "metadata": {},
   "outputs": [],
   "source": [
    "# splitting to target and predictors\n",
    "x = subset_data.drop('churn', axis=1)\n",
    "y = subset_data['churn']"
   ]
  },
  {
   "cell_type": "code",
   "execution_count": 21,
   "id": "578daef0",
   "metadata": {},
   "outputs": [],
   "source": [
    "# library\n",
    "from sklearn.model_selection import train_test_split\n",
    "\n",
    "# splitting to train and test datasets\n",
    "x_train, x_test, y_train, y_test = train_test_split(x, y, random_state=42, test_size=0.2)"
   ]
  },
  {
   "cell_type": "markdown",
   "id": "dea94524",
   "metadata": {},
   "source": [
    "### 5.3. Dummy encoding and replace"
   ]
  },
  {
   "cell_type": "code",
   "execution_count": 22,
   "id": "5225964d",
   "metadata": {},
   "outputs": [],
   "source": [
    "# function to convert yes/no columns to 1/0\n",
    "\n",
    "def convert_columns_to_numeric(df, columns_to_convert):\n",
    "    for i in columns_to_convert:\n",
    "        df[i] = df[i].replace({'no': 0, 'yes': 1})\n",
    "    \n",
    "    return df\n",
    "\n",
    "con_columns = ['international plan', 'voice mail plan']\n",
    "\n",
    "x_train = convert_columns_to_numeric(x_train, con_columns)\n",
    "x_test = convert_columns_to_numeric(x_test, con_columns)\n"
   ]
  },
  {
   "cell_type": "markdown",
   "id": "80c53eef",
   "metadata": {},
   "source": [
    "<h5>encoding categorical columns</h5>\n"
   ]
  },
  {
   "cell_type": "code",
   "execution_count": 23,
   "id": "470f9690",
   "metadata": {},
   "outputs": [],
   "source": [
    "# we encode state and phone number columns\n",
    "\n",
    "string_cols = ['state']\n",
    "\n",
    "# encoding with pd.get_dummies\n",
    "x_train_encoded = pd.get_dummies(x_train, columns=string_cols)\n",
    "x_test_encoded = pd.get_dummies(x_test, columns=string_cols)"
   ]
  },
  {
   "cell_type": "markdown",
   "id": "f3f928d7",
   "metadata": {},
   "source": [
    "<h2>6. Modelling</h2>\n",
    "\n",
    "* In this section is where the magic happens.\n",
    "* The problem at hand is a classification problem.\n",
    "* We will explore 3 models: a baseline DecisionTreeClassifier, a randomforest classifier and a tuned random forest model.\n",
    "* Model accuracy and F1 score will be the metrics for evaluation.\n",
    "> <b>Justification</b>: Accuracy to get a verdict if a customer churns or not. F1 score to get a balance between precision and recall.\n",
    "* Accuracy of 70% and F1 score of 70% will be the threshold to deam the model as successful."
   ]
  },
  {
   "cell_type": "markdown",
   "id": "7ee14a41",
   "metadata": {},
   "source": [
    "#### Building a regular tree as a baseline"
   ]
  },
  {
   "cell_type": "code",
   "execution_count": 24,
   "id": "57a3cb04",
   "metadata": {},
   "outputs": [
    {
     "data": {
      "text/html": [
       "<style>#sk-container-id-1 {color: black;background-color: white;}#sk-container-id-1 pre{padding: 0;}#sk-container-id-1 div.sk-toggleable {background-color: white;}#sk-container-id-1 label.sk-toggleable__label {cursor: pointer;display: block;width: 100%;margin-bottom: 0;padding: 0.3em;box-sizing: border-box;text-align: center;}#sk-container-id-1 label.sk-toggleable__label-arrow:before {content: \"▸\";float: left;margin-right: 0.25em;color: #696969;}#sk-container-id-1 label.sk-toggleable__label-arrow:hover:before {color: black;}#sk-container-id-1 div.sk-estimator:hover label.sk-toggleable__label-arrow:before {color: black;}#sk-container-id-1 div.sk-toggleable__content {max-height: 0;max-width: 0;overflow: hidden;text-align: left;background-color: #f0f8ff;}#sk-container-id-1 div.sk-toggleable__content pre {margin: 0.2em;color: black;border-radius: 0.25em;background-color: #f0f8ff;}#sk-container-id-1 input.sk-toggleable__control:checked~div.sk-toggleable__content {max-height: 200px;max-width: 100%;overflow: auto;}#sk-container-id-1 input.sk-toggleable__control:checked~label.sk-toggleable__label-arrow:before {content: \"▾\";}#sk-container-id-1 div.sk-estimator input.sk-toggleable__control:checked~label.sk-toggleable__label {background-color: #d4ebff;}#sk-container-id-1 div.sk-label input.sk-toggleable__control:checked~label.sk-toggleable__label {background-color: #d4ebff;}#sk-container-id-1 input.sk-hidden--visually {border: 0;clip: rect(1px 1px 1px 1px);clip: rect(1px, 1px, 1px, 1px);height: 1px;margin: -1px;overflow: hidden;padding: 0;position: absolute;width: 1px;}#sk-container-id-1 div.sk-estimator {font-family: monospace;background-color: #f0f8ff;border: 1px dotted black;border-radius: 0.25em;box-sizing: border-box;margin-bottom: 0.5em;}#sk-container-id-1 div.sk-estimator:hover {background-color: #d4ebff;}#sk-container-id-1 div.sk-parallel-item::after {content: \"\";width: 100%;border-bottom: 1px solid gray;flex-grow: 1;}#sk-container-id-1 div.sk-label:hover label.sk-toggleable__label {background-color: #d4ebff;}#sk-container-id-1 div.sk-serial::before {content: \"\";position: absolute;border-left: 1px solid gray;box-sizing: border-box;top: 0;bottom: 0;left: 50%;z-index: 0;}#sk-container-id-1 div.sk-serial {display: flex;flex-direction: column;align-items: center;background-color: white;padding-right: 0.2em;padding-left: 0.2em;position: relative;}#sk-container-id-1 div.sk-item {position: relative;z-index: 1;}#sk-container-id-1 div.sk-parallel {display: flex;align-items: stretch;justify-content: center;background-color: white;position: relative;}#sk-container-id-1 div.sk-item::before, #sk-container-id-1 div.sk-parallel-item::before {content: \"\";position: absolute;border-left: 1px solid gray;box-sizing: border-box;top: 0;bottom: 0;left: 50%;z-index: -1;}#sk-container-id-1 div.sk-parallel-item {display: flex;flex-direction: column;z-index: 1;position: relative;background-color: white;}#sk-container-id-1 div.sk-parallel-item:first-child::after {align-self: flex-end;width: 50%;}#sk-container-id-1 div.sk-parallel-item:last-child::after {align-self: flex-start;width: 50%;}#sk-container-id-1 div.sk-parallel-item:only-child::after {width: 0;}#sk-container-id-1 div.sk-dashed-wrapped {border: 1px dashed gray;margin: 0 0.4em 0.5em 0.4em;box-sizing: border-box;padding-bottom: 0.4em;background-color: white;}#sk-container-id-1 div.sk-label label {font-family: monospace;font-weight: bold;display: inline-block;line-height: 1.2em;}#sk-container-id-1 div.sk-label-container {text-align: center;}#sk-container-id-1 div.sk-container {/* jupyter's `normalize.less` sets `[hidden] { display: none; }` but bootstrap.min.css set `[hidden] { display: none !important; }` so we also need the `!important` here to be able to override the default hidden behavior on the sphinx rendered scikit-learn.org. See: https://github.com/scikit-learn/scikit-learn/issues/21755 */display: inline-block !important;position: relative;}#sk-container-id-1 div.sk-text-repr-fallback {display: none;}</style><div id=\"sk-container-id-1\" class=\"sk-top-container\"><div class=\"sk-text-repr-fallback\"><pre>DecisionTreeClassifier()</pre><b>In a Jupyter environment, please rerun this cell to show the HTML representation or trust the notebook. <br />On GitHub, the HTML representation is unable to render, please try loading this page with nbviewer.org.</b></div><div class=\"sk-container\" hidden><div class=\"sk-item\"><div class=\"sk-estimator sk-toggleable\"><input class=\"sk-toggleable__control sk-hidden--visually\" id=\"sk-estimator-id-1\" type=\"checkbox\" checked><label for=\"sk-estimator-id-1\" class=\"sk-toggleable__label sk-toggleable__label-arrow\">DecisionTreeClassifier</label><div class=\"sk-toggleable__content\"><pre>DecisionTreeClassifier()</pre></div></div></div></div></div>"
      ],
      "text/plain": [
       "DecisionTreeClassifier()"
      ]
     },
     "execution_count": 24,
     "metadata": {},
     "output_type": "execute_result"
    }
   ],
   "source": [
    "# library\n",
    "from sklearn.tree import DecisionTreeClassifier as dtc\n",
    "\n",
    "# creating an instance \n",
    "base_tree = dtc()\n",
    "# fitting\n",
    "base_tree.fit(x_train_encoded, y_train)"
   ]
  },
  {
   "cell_type": "markdown",
   "id": "81662f87",
   "metadata": {},
   "source": [
    "### Evaluating base model"
   ]
  },
  {
   "cell_type": "code",
   "execution_count": 25,
   "id": "8fc7c15b",
   "metadata": {},
   "outputs": [
    {
     "name": "stdout",
     "output_type": "stream",
     "text": [
      "Accuracy on the training set: 1.0\n",
      "F1 score of the model on train set: 1.0\n"
     ]
    }
   ],
   "source": [
    "# lets check the accuracy on training set\n",
    "from sklearn.metrics import accuracy_score, f1_score\n",
    "\n",
    "y_train_pred = base_tree.predict(x_train_encoded)\n",
    "accuracy = accuracy_score(y_train, y_train_pred)\n",
    "f1score = f1_score(y_train, y_train_pred)\n",
    "\n",
    "print(\"Accuracy on the training set:\", accuracy)\n",
    "print(\"F1 score of the model on train set:\", f1score)"
   ]
  },
  {
   "cell_type": "code",
   "execution_count": 26,
   "id": "cd54379e",
   "metadata": {},
   "outputs": [
    {
     "name": "stdout",
     "output_type": "stream",
     "text": [
      "Accuracy on the testing set: 0.9220389805097451\n",
      "F1 score of the model on test set: 0.7450980392156863\n"
     ]
    }
   ],
   "source": [
    "# lets check the accuracy on the test set\n",
    "\n",
    "y_test_pred = base_tree.predict(x_test_encoded)\n",
    "accuracy = accuracy_score(y_test, y_test_pred)\n",
    "f1score = f1_score(y_test, y_test_pred)\n",
    "\n",
    "print(\"Accuracy on the testing set:\", accuracy)\n",
    "print(\"F1 score of the model on test set:\", f1score)"
   ]
  },
  {
   "cell_type": "markdown",
   "id": "6e191511",
   "metadata": {},
   "source": [
    "\n",
    "* lets check <b>feature importance</b>.\n",
    "> We quickly examine how important each feature ended up being in our decision tree model."
   ]
  },
  {
   "cell_type": "code",
   "execution_count": 27,
   "id": "43ee9e0f",
   "metadata": {},
   "outputs": [
    {
     "data": {
      "image/png": "[encoded data removed]",
      "text/plain": [
       "<Figure size 864x864 with 1 Axes>"
      ]
     },
     "metadata": {},
     "output_type": "display_data"
    }
   ],
   "source": [
    "# we plot a horizontal bar graph to view feature importance\n",
    "\n",
    "def plot_feature_importance(model):\n",
    "    \"\"\"function that takes in a model and plots feature importance\"\"\"\n",
    "    \n",
    "    n_features = x_train_encoded.shape[1] # taking number of columns in x_train_encoded\n",
    "    plt.figure(figsize=(12,12))\n",
    "    plt.barh(range(n_features), model.feature_importances_, align='center')\n",
    "    plt.yticks(np.arange(n_features), x_train_encoded.columns.values)\n",
    "    plt.xlabel('Feature Importance')\n",
    "    plt.ylabel('Features')\n",
    "\n",
    "\n",
    "plot_feature_importance(base_tree)"
   ]
  },
  {
   "cell_type": "markdown",
   "id": "f25457ba",
   "metadata": {},
   "source": [
    "<h4>Interpretation</h4>\n",
    "\n",
    "* From the graph it is clear that the encoded states had little effect to how the model performs. Contrary to what we had thought, the state column is not important, its actually causing overfitting. \n",
    "* Moving forward state, total int charge, voice mail plan will be removed fom relevant columns."
   ]
  },
  {
   "cell_type": "markdown",
   "id": "c03f96bb",
   "metadata": {},
   "source": [
    "### Machine Learning Communication - baseline model\n",
    "\n",
    "#### Rationale why modeling was implemented.\n",
    "* While simpler forms of data analysis, such as descriptive statistics or basic data visualization, can provide initial insights, they may not be sufficient for complex problems or large datasets. Machine learning leverages advanced algorithms to uncover hidden patterns.\n",
    "\n",
    "#### Results.\n",
    "\n",
    "> * Accuracy on the training set: 1.0\n",
    "> * F1 score of the model on train set: 1.0\n",
    "\n",
    "> * Accuracy on the testing set: 0.92\n",
    "> * F1 score of the model on test set: 0.75\n",
    "\n",
    "> * The model is <b>overfitting</b>\n",
    "\n",
    "* The accuracy means that the model can predict with an accuracy of <b>92%</b> whether a customer will churn or not.\n",
    "\n",
    "* From the graph one can see how each predictor was important in modeling. \n",
    "\n",
    "#### Limitations of baseline model.\n",
    "* The current model is not fit for prediction since it is not generalizing well to new data even with high accuracy. The model is <b>overfitting</b>. \n",
    "* This we see from the 7% difference between train and test accuracy.\n",
    "* This we see from the large difference between train and test F1-score\n",
    "\n",
    "\n"
   ]
  },
  {
   "cell_type": "markdown",
   "id": "1bc4b5e7",
   "metadata": {},
   "source": [
    "### Model 2\n",
    "\n",
    "* Building an ensemble model with hyperparameters.\n",
    "* Different from base model in that we employ an ensemble model with hyperparameters to battle overfitting, employing SMOTE to handle the imbalance issue and scaling down of features also to battle overfitting.\n",
    "\n",
    "#### Rationale why ensemble modeling will be implemented.\n",
    "* While simpler forms of data analysis, such as descriptive statistics or basic data visualization, can provide initial insights, they are not sufficient for complex problems or large datasets such as this one. Ensemble models leverages advanced algorithms to uncover hidden patterns, make accurate predictions, and provide actionable insights that can greatly benefit SyriaTel in decision-making processes.\n"
   ]
  },
  {
   "cell_type": "markdown",
   "id": "51f6763e",
   "metadata": {},
   "source": [
    "#### Dropping irrelevant columns\n",
    "\n",
    "* <b>Justification</b>: From the last model we see that <b>state, total intl charge and voicemail plan</b> contribute least to the model performance."
   ]
  },
  {
   "cell_type": "code",
   "execution_count": 28,
   "id": "4909a57a",
   "metadata": {},
   "outputs": [],
   "source": [
    "# dropping 'state, total int charge, voice mail plan'\n",
    "x_train = x_train.drop(['state', 'total intl charge', 'voice mail plan'], axis=1)\n",
    "x_test = x_test.drop(['state', 'total intl charge', 'voice mail plan'], axis=1)"
   ]
  },
  {
   "cell_type": "markdown",
   "id": "50de48b5",
   "metadata": {},
   "source": [
    "#### Handling the class imbalance issue"
   ]
  },
  {
   "cell_type": "code",
   "execution_count": 29,
   "id": "87d3c4df",
   "metadata": {},
   "outputs": [
    {
     "data": {
      "text/html": [
       "<style>#sk-container-id-2 {color: black;background-color: white;}#sk-container-id-2 pre{padding: 0;}#sk-container-id-2 div.sk-toggleable {background-color: white;}#sk-container-id-2 label.sk-toggleable__label {cursor: pointer;display: block;width: 100%;margin-bottom: 0;padding: 0.3em;box-sizing: border-box;text-align: center;}#sk-container-id-2 label.sk-toggleable__label-arrow:before {content: \"▸\";float: left;margin-right: 0.25em;color: #696969;}#sk-container-id-2 label.sk-toggleable__label-arrow:hover:before {color: black;}#sk-container-id-2 div.sk-estimator:hover label.sk-toggleable__label-arrow:before {color: black;}#sk-container-id-2 div.sk-toggleable__content {max-height: 0;max-width: 0;overflow: hidden;text-align: left;background-color: #f0f8ff;}#sk-container-id-2 div.sk-toggleable__content pre {margin: 0.2em;color: black;border-radius: 0.25em;background-color: #f0f8ff;}#sk-container-id-2 input.sk-toggleable__control:checked~div.sk-toggleable__content {max-height: 200px;max-width: 100%;overflow: auto;}#sk-container-id-2 input.sk-toggleable__control:checked~label.sk-toggleable__label-arrow:before {content: \"▾\";}#sk-container-id-2 div.sk-estimator input.sk-toggleable__control:checked~label.sk-toggleable__label {background-color: #d4ebff;}#sk-container-id-2 div.sk-label input.sk-toggleable__control:checked~label.sk-toggleable__label {background-color: #d4ebff;}#sk-container-id-2 input.sk-hidden--visually {border: 0;clip: rect(1px 1px 1px 1px);clip: rect(1px, 1px, 1px, 1px);height: 1px;margin: -1px;overflow: hidden;padding: 0;position: absolute;width: 1px;}#sk-container-id-2 div.sk-estimator {font-family: monospace;background-color: #f0f8ff;border: 1px dotted black;border-radius: 0.25em;box-sizing: border-box;margin-bottom: 0.5em;}#sk-container-id-2 div.sk-estimator:hover {background-color: #d4ebff;}#sk-container-id-2 div.sk-parallel-item::after {content: \"\";width: 100%;border-bottom: 1px solid gray;flex-grow: 1;}#sk-container-id-2 div.sk-label:hover label.sk-toggleable__label {background-color: #d4ebff;}#sk-container-id-2 div.sk-serial::before {content: \"\";position: absolute;border-left: 1px solid gray;box-sizing: border-box;top: 0;bottom: 0;left: 50%;z-index: 0;}#sk-container-id-2 div.sk-serial {display: flex;flex-direction: column;align-items: center;background-color: white;padding-right: 0.2em;padding-left: 0.2em;position: relative;}#sk-container-id-2 div.sk-item {position: relative;z-index: 1;}#sk-container-id-2 div.sk-parallel {display: flex;align-items: stretch;justify-content: center;background-color: white;position: relative;}#sk-container-id-2 div.sk-item::before, #sk-container-id-2 div.sk-parallel-item::before {content: \"\";position: absolute;border-left: 1px solid gray;box-sizing: border-box;top: 0;bottom: 0;left: 50%;z-index: -1;}#sk-container-id-2 div.sk-parallel-item {display: flex;flex-direction: column;z-index: 1;position: relative;background-color: white;}#sk-container-id-2 div.sk-parallel-item:first-child::after {align-self: flex-end;width: 50%;}#sk-container-id-2 div.sk-parallel-item:last-child::after {align-self: flex-start;width: 50%;}#sk-container-id-2 div.sk-parallel-item:only-child::after {width: 0;}#sk-container-id-2 div.sk-dashed-wrapped {border: 1px dashed gray;margin: 0 0.4em 0.5em 0.4em;box-sizing: border-box;padding-bottom: 0.4em;background-color: white;}#sk-container-id-2 div.sk-label label {font-family: monospace;font-weight: bold;display: inline-block;line-height: 1.2em;}#sk-container-id-2 div.sk-label-container {text-align: center;}#sk-container-id-2 div.sk-container {/* jupyter's `normalize.less` sets `[hidden] { display: none; }` but bootstrap.min.css set `[hidden] { display: none !important; }` so we also need the `!important` here to be able to override the default hidden behavior on the sphinx rendered scikit-learn.org. See: https://github.com/scikit-learn/scikit-learn/issues/21755 */display: inline-block !important;position: relative;}#sk-container-id-2 div.sk-text-repr-fallback {display: none;}</style><div id=\"sk-container-id-2\" class=\"sk-top-container\"><div class=\"sk-text-repr-fallback\"><pre>RandomForestClassifier(max_depth=5)</pre><b>In a Jupyter environment, please rerun this cell to show the HTML representation or trust the notebook. <br />On GitHub, the HTML representation is unable to render, please try loading this page with nbviewer.org.</b></div><div class=\"sk-container\" hidden><div class=\"sk-item\"><div class=\"sk-estimator sk-toggleable\"><input class=\"sk-toggleable__control sk-hidden--visually\" id=\"sk-estimator-id-2\" type=\"checkbox\" checked><label for=\"sk-estimator-id-2\" class=\"sk-toggleable__label sk-toggleable__label-arrow\">RandomForestClassifier</label><div class=\"sk-toggleable__content\"><pre>RandomForestClassifier(max_depth=5)</pre></div></div></div></div></div>"
      ],
      "text/plain": [
       "RandomForestClassifier(max_depth=5)"
      ]
     },
     "execution_count": 29,
     "metadata": {},
     "output_type": "execute_result"
    }
   ],
   "source": [
    "# lets try random forest and oversampling\n",
    "from sklearn.ensemble import RandomForestClassifier as rfc\n",
    "from imblearn.over_sampling import SMOTE\n",
    "\n",
    "# Perform SMOTE to oversample the minority class\n",
    "smote = SMOTE(random_state=42)\n",
    "x_train_resampled, y_train_resampled = smote.fit_resample(x_train, y_train)\n",
    "\n",
    "# initalise model with n_estimators(number of trees) and max_depth\n",
    "forest_model = rfc(n_estimators=100, max_depth=5)\n",
    "# fitting model\n",
    "forest_model.fit(x_train_resampled, y_train_resampled)"
   ]
  },
  {
   "cell_type": "markdown",
   "id": "8c1aa655",
   "metadata": {},
   "source": [
    "### Evaluating forest model"
   ]
  },
  {
   "cell_type": "code",
   "execution_count": 30,
   "id": "51c580db",
   "metadata": {},
   "outputs": [
    {
     "name": "stdout",
     "output_type": "stream",
     "text": [
      "Accuracy on the training set: 0.9152288072018004\n",
      "F1 score of the model on train set: 0.7341176470588234\n"
     ]
    }
   ],
   "source": [
    "# lets check the accuracy on training set\n",
    "\n",
    "y_train_forest_pred = forest_model.predict(x_train)\n",
    "accuracy = accuracy_score(y_train, y_train_forest_pred)\n",
    "f1score = f1_score(y_train, y_train_forest_pred)\n",
    "\n",
    "print(\"Accuracy on the training set:\", accuracy)\n",
    "print(\"F1 score of the model on train set:\", f1score)"
   ]
  },
  {
   "cell_type": "code",
   "execution_count": 31,
   "id": "ed1dfb43",
   "metadata": {},
   "outputs": [
    {
     "name": "stdout",
     "output_type": "stream",
     "text": [
      "Accuracy on the testing set: 0.8950524737631185\n",
      "F1 score of the model on test set: 0.6902654867256638\n"
     ]
    }
   ],
   "source": [
    "# lets check the accuracy on the test set\n",
    "\n",
    "y_test_forest_pred = forest_model.predict(x_test)\n",
    "accuracy = accuracy_score(y_test, y_test_forest_pred)\n",
    "f1score = f1_score(y_test, y_test_forest_pred)\n",
    "\n",
    "print(\"Accuracy on the testing set:\", accuracy)\n",
    "print(\"F1 score of the model on test set:\", f1score)"
   ]
  },
  {
   "cell_type": "markdown",
   "id": "c2c2d554",
   "metadata": {},
   "source": [
    "### lets see feature importance for this model"
   ]
  },
  {
   "cell_type": "code",
   "execution_count": 32,
   "id": "1dee0abf",
   "metadata": {},
   "outputs": [
    {
     "data": {
      "image/png": "[encoded data removed]",
      "text/plain": [
       "<Figure size 864x864 with 1 Axes>"
      ]
     },
     "metadata": {},
     "output_type": "display_data"
    }
   ],
   "source": [
    "# we plot a horizontal bar graph to view feature importance\n",
    "\n",
    "def plot_feature_importance(model):\n",
    "    \"\"\"function that takes in a model and plots feature importance\"\"\"\n",
    "    \n",
    "    n_features = x_train.shape[1] # taking number of columns in x_train_encoded\n",
    "    plt.figure(figsize=(12,12))\n",
    "    plt.barh(range(n_features), model.feature_importances_, align='center')\n",
    "    plt.yticks(np.arange(n_features), x_train.columns.values)\n",
    "    plt.xlabel('Feature Importance')\n",
    "    plt.ylabel('Features')\n",
    "\n",
    "\n",
    "plot_feature_importance(forest_model)"
   ]
  },
  {
   "cell_type": "markdown",
   "id": "a900f68e",
   "metadata": {},
   "source": [
    "<interpretation>"
   ]
  },
  {
   "cell_type": "markdown",
   "id": "dc373108",
   "metadata": {},
   "source": [
    "<interpretaiton>"
   ]
  },
  {
   "cell_type": "markdown",
   "id": "4a61ee9b",
   "metadata": {},
   "source": [
    "<h4>Interpretation</h4>\n",
    " \n",
    "* 'total day minutes', 'total day charge', 'customer service calls', are the biggest predictors that of the target."
   ]
  },
  {
   "cell_type": "markdown",
   "id": "25aadecd",
   "metadata": {},
   "source": [
    "### Machine Learning Communication.\n",
    "\n",
    "#### Results.\n",
    "\n",
    "> * Accuracy on the training set: 0.92\n",
    "> * F1 score of the model on train set: 0.73\n",
    "\n",
    "> * Accuracy on the testing set: 0.89\n",
    "> * F1 score of the model on test set: 0.69\n",
    "\n",
    "> * The model is <b>not overfitting</b> but it is exhibiting issues because the test scores are higher than train. This may be due to data leakage, random variations or training size.\n",
    "\n",
    "* The accuracy means that the model can predict with an accuracy of <b>89%</b> whether a customer will churn or not.\n",
    "\n",
    "* From the graph one can see how each predictor was important in modeling. \n",
    "\n",
    "#### Limitations.\n",
    "* The current model is not fit for prediction since it is experiencing higher test scores indicating internal issues e.g random variations, data leakage etc. \n",
    "* This we see from the difference between train and test accuracy.\n",
    "* This we see from the difference between train and test F1-score."
   ]
  },
  {
   "cell_type": "markdown",
   "id": "9688d639",
   "metadata": {},
   "source": [
    "### Model 3\n",
    "\n",
    "* Building a model using grid searchCV to find best set of hyper-parameters.\n",
    "* Different from base model and Model 2 in that we employ an ensemble model with grid searchCV to find the best set of hyperparameters to battle overfitting while improving accuracy and F1 score.\n",
    "* Employing SMOTE to handle the imbalance issue and scaling down of features also to battle overfitting.\n",
    "* Employing cross validation to tackle the random variation issue.\n",
    "\n",
    "#### Rationale why tuned ensemble modeling will be implemented using grid searchCV.\n",
    "* While simpler forms of modelling and data visualization, can provide initial insights, they are not sufficient for battling overfitting. Grid search and tuned Ensemble models leverages advanced algorithms to uncover hidden patterns, make accurate predictions, provide actionable insights and battle overfitting by finding the best set of hyperparameters. This greatly benefits SyriaTel in decision-making processes.\n"
   ]
  },
  {
   "cell_type": "code",
   "execution_count": 33,
   "id": "87dd14e7",
   "metadata": {},
   "outputs": [],
   "source": [
    "# importing the necessary libraries\n",
    "from sklearn.model_selection import GridSearchCV\n",
    "\n",
    "# initializing model\n",
    "forest_model2 = rfc(random_state=42)"
   ]
  },
  {
   "cell_type": "code",
   "execution_count": 34,
   "id": "af149c1e",
   "metadata": {},
   "outputs": [],
   "source": [
    "# next we setup a grid search to find the best hyperparameters\n",
    "grid = [{\n",
    "    'n_estimators': [100],\n",
    "    'max_depth': [4, 5, 6],\n",
    "    'min_samples_split': [2, 5, 10],\n",
    "    'min_samples_leaf': [1, 3, 5]\n",
    "}]"
   ]
  },
  {
   "cell_type": "markdown",
   "id": "0947a633",
   "metadata": {},
   "source": [
    "#### define grid search\n",
    "* estimator as forest_model2\n",
    "* the parameter grid\n",
    "* 5-fold cross validation"
   ]
  },
  {
   "cell_type": "code",
   "execution_count": 35,
   "id": "72ecc08d",
   "metadata": {},
   "outputs": [],
   "source": [
    "# define grid search\n",
    "gridsearch = GridSearchCV(estimator=forest_model2,\n",
    "                         param_grid=grid, \n",
    "                         cv=5)"
   ]
  },
  {
   "cell_type": "code",
   "execution_count": 36,
   "id": "1ee99664",
   "metadata": {},
   "outputs": [
    {
     "data": {
      "text/html": [
       "<style>#sk-container-id-3 {color: black;background-color: white;}#sk-container-id-3 pre{padding: 0;}#sk-container-id-3 div.sk-toggleable {background-color: white;}#sk-container-id-3 label.sk-toggleable__label {cursor: pointer;display: block;width: 100%;margin-bottom: 0;padding: 0.3em;box-sizing: border-box;text-align: center;}#sk-container-id-3 label.sk-toggleable__label-arrow:before {content: \"▸\";float: left;margin-right: 0.25em;color: #696969;}#sk-container-id-3 label.sk-toggleable__label-arrow:hover:before {color: black;}#sk-container-id-3 div.sk-estimator:hover label.sk-toggleable__label-arrow:before {color: black;}#sk-container-id-3 div.sk-toggleable__content {max-height: 0;max-width: 0;overflow: hidden;text-align: left;background-color: #f0f8ff;}#sk-container-id-3 div.sk-toggleable__content pre {margin: 0.2em;color: black;border-radius: 0.25em;background-color: #f0f8ff;}#sk-container-id-3 input.sk-toggleable__control:checked~div.sk-toggleable__content {max-height: 200px;max-width: 100%;overflow: auto;}#sk-container-id-3 input.sk-toggleable__control:checked~label.sk-toggleable__label-arrow:before {content: \"▾\";}#sk-container-id-3 div.sk-estimator input.sk-toggleable__control:checked~label.sk-toggleable__label {background-color: #d4ebff;}#sk-container-id-3 div.sk-label input.sk-toggleable__control:checked~label.sk-toggleable__label {background-color: #d4ebff;}#sk-container-id-3 input.sk-hidden--visually {border: 0;clip: rect(1px 1px 1px 1px);clip: rect(1px, 1px, 1px, 1px);height: 1px;margin: -1px;overflow: hidden;padding: 0;position: absolute;width: 1px;}#sk-container-id-3 div.sk-estimator {font-family: monospace;background-color: #f0f8ff;border: 1px dotted black;border-radius: 0.25em;box-sizing: border-box;margin-bottom: 0.5em;}#sk-container-id-3 div.sk-estimator:hover {background-color: #d4ebff;}#sk-container-id-3 div.sk-parallel-item::after {content: \"\";width: 100%;border-bottom: 1px solid gray;flex-grow: 1;}#sk-container-id-3 div.sk-label:hover label.sk-toggleable__label {background-color: #d4ebff;}#sk-container-id-3 div.sk-serial::before {content: \"\";position: absolute;border-left: 1px solid gray;box-sizing: border-box;top: 0;bottom: 0;left: 50%;z-index: 0;}#sk-container-id-3 div.sk-serial {display: flex;flex-direction: column;align-items: center;background-color: white;padding-right: 0.2em;padding-left: 0.2em;position: relative;}#sk-container-id-3 div.sk-item {position: relative;z-index: 1;}#sk-container-id-3 div.sk-parallel {display: flex;align-items: stretch;justify-content: center;background-color: white;position: relative;}#sk-container-id-3 div.sk-item::before, #sk-container-id-3 div.sk-parallel-item::before {content: \"\";position: absolute;border-left: 1px solid gray;box-sizing: border-box;top: 0;bottom: 0;left: 50%;z-index: -1;}#sk-container-id-3 div.sk-parallel-item {display: flex;flex-direction: column;z-index: 1;position: relative;background-color: white;}#sk-container-id-3 div.sk-parallel-item:first-child::after {align-self: flex-end;width: 50%;}#sk-container-id-3 div.sk-parallel-item:last-child::after {align-self: flex-start;width: 50%;}#sk-container-id-3 div.sk-parallel-item:only-child::after {width: 0;}#sk-container-id-3 div.sk-dashed-wrapped {border: 1px dashed gray;margin: 0 0.4em 0.5em 0.4em;box-sizing: border-box;padding-bottom: 0.4em;background-color: white;}#sk-container-id-3 div.sk-label label {font-family: monospace;font-weight: bold;display: inline-block;line-height: 1.2em;}#sk-container-id-3 div.sk-label-container {text-align: center;}#sk-container-id-3 div.sk-container {/* jupyter's `normalize.less` sets `[hidden] { display: none; }` but bootstrap.min.css set `[hidden] { display: none !important; }` so we also need the `!important` here to be able to override the default hidden behavior on the sphinx rendered scikit-learn.org. See: https://github.com/scikit-learn/scikit-learn/issues/21755 */display: inline-block !important;position: relative;}#sk-container-id-3 div.sk-text-repr-fallback {display: none;}</style><div id=\"sk-container-id-3\" class=\"sk-top-container\"><div class=\"sk-text-repr-fallback\"><pre>GridSearchCV(cv=5, estimator=RandomForestClassifier(random_state=42),\n",
       "             param_grid=[{&#x27;max_depth&#x27;: [4, 5, 6], &#x27;min_samples_leaf&#x27;: [1, 3, 5],\n",
       "                          &#x27;min_samples_split&#x27;: [2, 5, 10],\n",
       "                          &#x27;n_estimators&#x27;: [100]}])</pre><b>In a Jupyter environment, please rerun this cell to show the HTML representation or trust the notebook. <br />On GitHub, the HTML representation is unable to render, please try loading this page with nbviewer.org.</b></div><div class=\"sk-container\" hidden><div class=\"sk-item sk-dashed-wrapped\"><div class=\"sk-label-container\"><div class=\"sk-label sk-toggleable\"><input class=\"sk-toggleable__control sk-hidden--visually\" id=\"sk-estimator-id-3\" type=\"checkbox\" ><label for=\"sk-estimator-id-3\" class=\"sk-toggleable__label sk-toggleable__label-arrow\">GridSearchCV</label><div class=\"sk-toggleable__content\"><pre>GridSearchCV(cv=5, estimator=RandomForestClassifier(random_state=42),\n",
       "             param_grid=[{&#x27;max_depth&#x27;: [4, 5, 6], &#x27;min_samples_leaf&#x27;: [1, 3, 5],\n",
       "                          &#x27;min_samples_split&#x27;: [2, 5, 10],\n",
       "                          &#x27;n_estimators&#x27;: [100]}])</pre></div></div></div><div class=\"sk-parallel\"><div class=\"sk-parallel-item\"><div class=\"sk-item\"><div class=\"sk-label-container\"><div class=\"sk-label sk-toggleable\"><input class=\"sk-toggleable__control sk-hidden--visually\" id=\"sk-estimator-id-4\" type=\"checkbox\" ><label for=\"sk-estimator-id-4\" class=\"sk-toggleable__label sk-toggleable__label-arrow\">estimator: RandomForestClassifier</label><div class=\"sk-toggleable__content\"><pre>RandomForestClassifier(random_state=42)</pre></div></div></div><div class=\"sk-serial\"><div class=\"sk-item\"><div class=\"sk-estimator sk-toggleable\"><input class=\"sk-toggleable__control sk-hidden--visually\" id=\"sk-estimator-id-5\" type=\"checkbox\" ><label for=\"sk-estimator-id-5\" class=\"sk-toggleable__label sk-toggleable__label-arrow\">RandomForestClassifier</label><div class=\"sk-toggleable__content\"><pre>RandomForestClassifier(random_state=42)</pre></div></div></div></div></div></div></div></div></div></div>"
      ],
      "text/plain": [
       "GridSearchCV(cv=5, estimator=RandomForestClassifier(random_state=42),\n",
       "             param_grid=[{'max_depth': [4, 5, 6], 'min_samples_leaf': [1, 3, 5],\n",
       "                          'min_samples_split': [2, 5, 10],\n",
       "                          'n_estimators': [100]}])"
      ]
     },
     "execution_count": 36,
     "metadata": {},
     "output_type": "execute_result"
    }
   ],
   "source": [
    "# fit the training data\n",
    "gridsearch.fit(x_train_resampled, y_train_resampled)"
   ]
  },
  {
   "cell_type": "code",
   "execution_count": 37,
   "id": "b46c93fc",
   "metadata": {},
   "outputs": [
    {
     "data": {
      "text/plain": [
       "{'max_depth': 6,\n",
       " 'min_samples_leaf': 1,\n",
       " 'min_samples_split': 2,\n",
       " 'n_estimators': 100}"
      ]
     },
     "execution_count": 37,
     "metadata": {},
     "output_type": "execute_result"
    }
   ],
   "source": [
    "# lets see the best set of hyperparameters\n",
    "gridsearch.best_params_"
   ]
  },
  {
   "cell_type": "markdown",
   "id": "0519dfc7",
   "metadata": {},
   "source": [
    "####  explanation on what the parameters mean:\n",
    "* 'max_depth': 6 - The maximum depth of the tree. \n",
    "* 'min_samples_leaf': 1 - The minimum number of samples required to be at a leaf node.\n",
    "* 'min_samples_split': 2 - The minimum number of samples required to split an internal node.\n",
    "* 'n_estimators': 100 - refers to the number of trees in the forest."
   ]
  },
  {
   "cell_type": "code",
   "execution_count": 38,
   "id": "7fdd4efc",
   "metadata": {},
   "outputs": [
    {
     "data": {
      "text/html": [
       "<style>#sk-container-id-4 {color: black;background-color: white;}#sk-container-id-4 pre{padding: 0;}#sk-container-id-4 div.sk-toggleable {background-color: white;}#sk-container-id-4 label.sk-toggleable__label {cursor: pointer;display: block;width: 100%;margin-bottom: 0;padding: 0.3em;box-sizing: border-box;text-align: center;}#sk-container-id-4 label.sk-toggleable__label-arrow:before {content: \"▸\";float: left;margin-right: 0.25em;color: #696969;}#sk-container-id-4 label.sk-toggleable__label-arrow:hover:before {color: black;}#sk-container-id-4 div.sk-estimator:hover label.sk-toggleable__label-arrow:before {color: black;}#sk-container-id-4 div.sk-toggleable__content {max-height: 0;max-width: 0;overflow: hidden;text-align: left;background-color: #f0f8ff;}#sk-container-id-4 div.sk-toggleable__content pre {margin: 0.2em;color: black;border-radius: 0.25em;background-color: #f0f8ff;}#sk-container-id-4 input.sk-toggleable__control:checked~div.sk-toggleable__content {max-height: 200px;max-width: 100%;overflow: auto;}#sk-container-id-4 input.sk-toggleable__control:checked~label.sk-toggleable__label-arrow:before {content: \"▾\";}#sk-container-id-4 div.sk-estimator input.sk-toggleable__control:checked~label.sk-toggleable__label {background-color: #d4ebff;}#sk-container-id-4 div.sk-label input.sk-toggleable__control:checked~label.sk-toggleable__label {background-color: #d4ebff;}#sk-container-id-4 input.sk-hidden--visually {border: 0;clip: rect(1px 1px 1px 1px);clip: rect(1px, 1px, 1px, 1px);height: 1px;margin: -1px;overflow: hidden;padding: 0;position: absolute;width: 1px;}#sk-container-id-4 div.sk-estimator {font-family: monospace;background-color: #f0f8ff;border: 1px dotted black;border-radius: 0.25em;box-sizing: border-box;margin-bottom: 0.5em;}#sk-container-id-4 div.sk-estimator:hover {background-color: #d4ebff;}#sk-container-id-4 div.sk-parallel-item::after {content: \"\";width: 100%;border-bottom: 1px solid gray;flex-grow: 1;}#sk-container-id-4 div.sk-label:hover label.sk-toggleable__label {background-color: #d4ebff;}#sk-container-id-4 div.sk-serial::before {content: \"\";position: absolute;border-left: 1px solid gray;box-sizing: border-box;top: 0;bottom: 0;left: 50%;z-index: 0;}#sk-container-id-4 div.sk-serial {display: flex;flex-direction: column;align-items: center;background-color: white;padding-right: 0.2em;padding-left: 0.2em;position: relative;}#sk-container-id-4 div.sk-item {position: relative;z-index: 1;}#sk-container-id-4 div.sk-parallel {display: flex;align-items: stretch;justify-content: center;background-color: white;position: relative;}#sk-container-id-4 div.sk-item::before, #sk-container-id-4 div.sk-parallel-item::before {content: \"\";position: absolute;border-left: 1px solid gray;box-sizing: border-box;top: 0;bottom: 0;left: 50%;z-index: -1;}#sk-container-id-4 div.sk-parallel-item {display: flex;flex-direction: column;z-index: 1;position: relative;background-color: white;}#sk-container-id-4 div.sk-parallel-item:first-child::after {align-self: flex-end;width: 50%;}#sk-container-id-4 div.sk-parallel-item:last-child::after {align-self: flex-start;width: 50%;}#sk-container-id-4 div.sk-parallel-item:only-child::after {width: 0;}#sk-container-id-4 div.sk-dashed-wrapped {border: 1px dashed gray;margin: 0 0.4em 0.5em 0.4em;box-sizing: border-box;padding-bottom: 0.4em;background-color: white;}#sk-container-id-4 div.sk-label label {font-family: monospace;font-weight: bold;display: inline-block;line-height: 1.2em;}#sk-container-id-4 div.sk-label-container {text-align: center;}#sk-container-id-4 div.sk-container {/* jupyter's `normalize.less` sets `[hidden] { display: none; }` but bootstrap.min.css set `[hidden] { display: none !important; }` so we also need the `!important` here to be able to override the default hidden behavior on the sphinx rendered scikit-learn.org. See: https://github.com/scikit-learn/scikit-learn/issues/21755 */display: inline-block !important;position: relative;}#sk-container-id-4 div.sk-text-repr-fallback {display: none;}</style><div id=\"sk-container-id-4\" class=\"sk-top-container\"><div class=\"sk-text-repr-fallback\"><pre>RandomForestClassifier(max_depth=6, random_state=42)</pre><b>In a Jupyter environment, please rerun this cell to show the HTML representation or trust the notebook. <br />On GitHub, the HTML representation is unable to render, please try loading this page with nbviewer.org.</b></div><div class=\"sk-container\" hidden><div class=\"sk-item\"><div class=\"sk-estimator sk-toggleable\"><input class=\"sk-toggleable__control sk-hidden--visually\" id=\"sk-estimator-id-6\" type=\"checkbox\" checked><label for=\"sk-estimator-id-6\" class=\"sk-toggleable__label sk-toggleable__label-arrow\">RandomForestClassifier</label><div class=\"sk-toggleable__content\"><pre>RandomForestClassifier(max_depth=6, random_state=42)</pre></div></div></div></div></div>"
      ],
      "text/plain": [
       "RandomForestClassifier(max_depth=6, random_state=42)"
      ]
     },
     "execution_count": 38,
     "metadata": {},
     "output_type": "execute_result"
    }
   ],
   "source": [
    "# now we fit a new model with these parameters\n",
    "forest_model3 = rfc(n_estimators=100, max_depth=6, min_samples_leaf=1, min_samples_split=2, random_state=42)\n",
    "forest_model3.fit(x_train_resampled, y_train_resampled)"
   ]
  },
  {
   "cell_type": "code",
   "execution_count": 39,
   "id": "6267e781",
   "metadata": {},
   "outputs": [
    {
     "name": "stdout",
     "output_type": "stream",
     "text": [
      "Accuracy on the training set: 0.9302325581395349\n",
      "F1 score of the model on train set: 0.774818401937046\n"
     ]
    }
   ],
   "source": [
    "# lets check the accuracy on training set\n",
    "\n",
    "y_train_grid_pred = forest_model3.predict(x_train)\n",
    "accuracy = accuracy_score(y_train, y_train_grid_pred)\n",
    "f1score = f1_score(y_train, y_train_grid_pred)\n",
    "\n",
    "print(\"Accuracy on the training set:\", accuracy)\n",
    "print(\"F1 score of the model on train set:\", f1score)"
   ]
  },
  {
   "cell_type": "code",
   "execution_count": 40,
   "id": "84fa5a39",
   "metadata": {},
   "outputs": [
    {
     "name": "stdout",
     "output_type": "stream",
     "text": [
      "Accuracy on the testing set: 0.9160419790104948\n",
      "F1 score of the model on test set: 0.7358490566037735\n"
     ]
    }
   ],
   "source": [
    "# lets check the accuracy on the test set\n",
    "\n",
    "y_test_grid_pred = forest_model3.predict(x_test)\n",
    "accuracy = accuracy_score(y_test, y_test_grid_pred)\n",
    "f1score = f1_score(y_test, y_test_grid_pred)\n",
    "\n",
    "print(\"Accuracy on the testing set:\", accuracy)\n",
    "print(\"F1 score of the model on test set:\", f1score)"
   ]
  },
  {
   "cell_type": "code",
   "execution_count": 41,
   "id": "a67a8992",
   "metadata": {},
   "outputs": [
    {
     "data": {
      "image/png": "[encoded data removed]",
      "text/plain": [
       "<Figure size 864x864 with 1 Axes>"
      ]
     },
     "metadata": {},
     "output_type": "display_data"
    }
   ],
   "source": [
    "# feature importance.\n",
    "plot_feature_importance(forest_model3)"
   ]
  },
  {
   "cell_type": "markdown",
   "id": "52c17aec",
   "metadata": {},
   "source": [
    "<h4>Interpretation</h4>\n",
    " \n",
    "* 'total day minutes', 'total day charge', 'customer service calls', are the biggest predictors that of the target."
   ]
  },
  {
   "cell_type": "markdown",
   "id": "5778cd68",
   "metadata": {},
   "source": [
    "### Machine Learning Communication.\n",
    "\n",
    "#### Results.\n",
    "\n",
    "> * Accuracy on the training set: 0.93\n",
    "> * F1 score of the model on train set: 0.78\n",
    "\n",
    "> * Accuracy on the testing set: 0.92\n",
    "> * F1 score of the model on test set: 0.74\n",
    "\n",
    "> * The model is <b>not overfitting</b>. It is now performing as expected.\n",
    "\n",
    "* The accuracy means that the model can predict with an accuracy of <b>92%</b> whether a customer will churn or not.\n",
    "\n",
    "* From the graph one can see how each predictor was important in modeling. \n",
    "\n",
    "#### Limitations.\n",
    "* The current model is fit for prediction since the difference between train and test scores is proper. \n",
    "* This we see from the difference between train and test accuracy.\n",
    "* This we see from the difference between train and test F1-score."
   ]
  },
  {
   "cell_type": "markdown",
   "id": "588c78e8",
   "metadata": {},
   "source": [
    "## Best Model: Model 3\n",
    "\n",
    "### Justification.\n",
    "* Model 3 proved to have a balanced performance on train and test instances. It demonstrated proper metrics with accuracy score of 92%.\n",
    "* Overall it did not overfit."
   ]
  },
  {
   "cell_type": "markdown",
   "id": "8d5002e0",
   "metadata": {},
   "source": [
    "## 7. Findings and Recommendations"
   ]
  },
  {
   "cell_type": "markdown",
   "id": "326c634e",
   "metadata": {},
   "source": [
    "### 7.1. Findings.\n",
    "The following findings were found:\n",
    "1. From the modelling exercise, the 3rd model was the best and was able to predict the target with an accuracy of 92%. This means given customer features, it is able to predict churn/no churn with an accuracy of 92%.\n",
    "2. The features that heavily determine churn are <b>total day minutes, total day charge, customer service calls</b>\n",
    "3. Findings from EDA are also taken into account."
   ]
  },
  {
   "cell_type": "markdown",
   "id": "2917e7e5",
   "metadata": {},
   "source": [
    "### 7.2. Recommendations.\n",
    "The following recommendations were made based on the whole exercise:\n",
    "\n",
    "1. Improve Service Quality and Customer Experience: High customer service calls may indicate that customers are experiencing issues or dissatisfaction with the service. To reduce churn, the company should focus on improving service quality, addressing customer concerns promptly, and providing excellent customer support. This can be achieved through staff training, efficient complaint resolution processes, and regular feedback collection to identify and rectify service gaps.\n",
    "2. Review Pricing Strategies: Since total day minutes and total day charge are influential factors in churn, it is crucial to evaluate the pricing structure and competitiveness. Consider conducting market research and competitor analysis to ensure that the company's pricing is competitive and aligned with customers' expectations. Offering attractive plans, discounts, or incentives for loyal customers can help retain them and discourage churn.\n",
    "3. Proactive Customer Engagement and Retention Programs: Rather than waiting for customers to reach out with issues or complaints, the company can proactively engage customers through personalized communication and retention programs. This can include sending targeted offers, exclusive promotions, and customized recommendations based on customers' usage patterns and preferences. Building strong relationships with customers and providing them with incentives to stay can significantly reduce churn rates.\n",
    "4. Analyze Churn Patterns and Predictive Modeling: Add more data on churn to analyze patterns and trends. Implement predictive modeling techniques in the current systems, to forecast customer churn probability based on various features. By identifying customers who are at high risk of churn, the company can proactively reach out to them with targeted retention strategies and offers, increasing the chances of retaining those customers."
   ]
  },
  {
   "cell_type": "markdown",
   "id": "08418e35",
   "metadata": {},
   "source": [
    "### 7.3. Next steps\n",
    "\n",
    "1. Gather more data to improve model accuracy.\n",
    "2. Realize the project into a full software system."
   ]
  },
  {
   "cell_type": "code",
   "execution_count": null,
   "id": "2d42e50d",
   "metadata": {},
   "outputs": [],
   "source": []
  }
 ],
 "metadata": {
  "kernelspec": {
   "display_name": "Python 3 (ipykernel)",
   "language": "python",
   "name": "python3"
  },
  "language_info": {
   "codemirror_mode": {
    "name": "ipython",
    "version": 3
   },
   "file_extension": ".py",
   "mimetype": "text/x-python",
   "name": "python",
   "nbconvert_exporter": "python",
   "pygments_lexer": "ipython3",
   "version": "3.9.6"
  }
 },
 "nbformat": 4,
 "nbformat_minor": 5
}
